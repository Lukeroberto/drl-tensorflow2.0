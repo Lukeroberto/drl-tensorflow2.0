{
 "cells": [
  {
   "cell_type": "code",
   "execution_count": 1,
   "metadata": {},
   "outputs": [],
   "source": [
    "%load_ext autoreload\n",
    "%autoreload 2"
   ]
  },
  {
   "cell_type": "code",
   "execution_count": 70,
   "metadata": {},
   "outputs": [],
   "source": [
    "import numpy as np\n",
    "import tensorflow as tf\n",
    "\n",
    "from model import *"
   ]
  },
  {
   "cell_type": "code",
   "execution_count": 71,
   "metadata": {},
   "outputs": [],
   "source": [
    "nS = 10\n",
    "nA = 10\n",
    "\n",
    "net = Model(nA)"
   ]
  },
  {
   "cell_type": "code",
   "execution_count": 72,
   "metadata": {},
   "outputs": [],
   "source": [
    "inputs = np.zeros((1,nS), dtype=np.float32)\n",
    "inputs += 1"
   ]
  },
  {
   "cell_type": "code",
   "execution_count": 79,
   "metadata": {},
   "outputs": [
    {
     "name": "stdout",
     "output_type": "stream",
     "text": [
      "Observation: \n",
      "[[1. 1. 1. 1. 1. 1. 1. 1. 1. 1.]] -> \n",
      "Q-vals: \n",
      "[[ 0.34313375 -0.4933749   0.25977102 -0.03254568 -0.19253166 -0.66415745\n",
      "   0.41367224  0.03011131  0.02990497  0.1490248 ]]\n"
     ]
    }
   ],
   "source": [
    "outputs = net(inputs)\n",
    "print(f\"Observation: \\n{inputs} -> \\nQ-vals: \\n{outputs}\")"
   ]
  },
  {
   "cell_type": "code",
   "execution_count": 74,
   "metadata": {},
   "outputs": [
    {
     "name": "stdout",
     "output_type": "stream",
     "text": [
      "Model: \"model_13\"\n",
      "_________________________________________________________________\n",
      "Layer (type)                 Output Shape              Param #   \n",
      "=================================================================\n",
      "dense_29 (Dense)             multiple                  1408      \n",
      "_________________________________________________________________\n",
      "dense_30 (Dense)             multiple                  8256      \n",
      "_________________________________________________________________\n",
      "dense_31 (Dense)             multiple                  650       \n",
      "=================================================================\n",
      "Total params: 10,314\n",
      "Trainable params: 10,314\n",
      "Non-trainable params: 0\n",
      "_________________________________________________________________\n",
      "None\n"
     ]
    }
   ],
   "source": []
  },
  {
   "cell_type": "code",
   "execution_count": null,
   "metadata": {},
   "outputs": [],
   "source": []
  }
 ],
 "metadata": {
  "kernelspec": {
   "display_name": "Python 3",
   "language": "python",
   "name": "python3"
  },
  "language_info": {
   "codemirror_mode": {
    "name": "ipython",
    "version": 3
   },
   "file_extension": ".py",
   "mimetype": "text/x-python",
   "name": "python",
   "nbconvert_exporter": "python",
   "pygments_lexer": "ipython3",
   "version": "3.6.8"
  }
 },
 "nbformat": 4,
 "nbformat_minor": 2
}
